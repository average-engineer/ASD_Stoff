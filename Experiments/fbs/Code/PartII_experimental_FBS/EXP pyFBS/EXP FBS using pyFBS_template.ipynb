{
 "cells": [
  {
   "cell_type": "code",
   "execution_count": 1,
   "id": "caa5dd76-12ab-4431-b7dd-a5b27a385150",
   "metadata": {},
   "outputs": [
    {
     "name": "stderr",
     "output_type": "stream",
     "text": [
      "C:\\Users\\Ashutosh Mukherjee\\AppData\\Local\\Temp\\ipykernel_7964\\3777615979.py:1: DeprecationWarning: Importing display from IPython.core.display is deprecated since IPython 7.14, please import from IPython.display\n",
      "  from IPython.core.display import display, HTML\n"
     ]
    },
    {
     "data": {
      "text/html": [
       "<style>.container { width:100% !important; }</style>"
      ],
      "text/plain": [
       "<IPython.core.display.HTML object>"
      ]
     },
     "metadata": {},
     "output_type": "display_data"
    }
   ],
   "source": [
    "from IPython.core.display import display, HTML\n",
    "display(HTML(\"<style>.container { width:100% !important; }</style>\"))"
   ]
  },
  {
   "cell_type": "markdown",
   "id": "c8334cc3",
   "metadata": {
    "slideshow": {
     "slide_type": "skip"
    }
   },
   "source": [
    "***"
   ]
  },
  {
   "cell_type": "markdown",
   "id": "909a2222",
   "metadata": {
    "slideshow": {
     "slide_type": "fragment"
    }
   },
   "source": [
    "# FBS using pyFBS: An experimental case\n",
    "\n",
    "> Francesco Trainotti $\\,\\,$ *francesco.trainotti@tum.de* <br>\n",
    "> Marie Brons $\\,\\,$ *maribr@dtu.dk* <br>\n",
    "\n",
    "\n",
    "> Advanced Structural Dynamics, DTU Copenhagen, 16-19 June 2025\n",
    "\n",
    "\n",
    "\n"
   ]
  },
  {
   "cell_type": "markdown",
   "id": "bdcabbe7",
   "metadata": {
    "slideshow": {
     "slide_type": "skip"
    }
   },
   "source": [
    "***"
   ]
  },
  {
   "cell_type": "code",
   "execution_count": 2,
   "id": "ea14a769-04cb-477d-96d3-7a221e15d4ad",
   "metadata": {},
   "outputs": [],
   "source": [
    "import pyFBS\n",
    "\n",
    "import numpy as np\n",
    "import pandas as pd\n",
    "import matplotlib.pyplot as plt"
   ]
  },
  {
   "cell_type": "code",
   "execution_count": 3,
   "id": "3c5026fa-cac3-42ab-9877-6efeb0af514d",
   "metadata": {},
   "outputs": [],
   "source": [
    "import warnings\n",
    "warnings.filterwarnings(\"ignore\")"
   ]
  },
  {
   "cell_type": "markdown",
   "id": "cde6bab1-1435-4ae0-9836-e57ef2248840",
   "metadata": {},
   "source": [
    "### Data Import\n",
    "Load the required predefined datasets:"
   ]
  },
  {
   "cell_type": "code",
   "execution_count": 4,
   "id": "cf5662af-2639-428a-8c2c-46f17ec3866b",
   "metadata": {},
   "outputs": [],
   "source": [
    "stl_dir_A = r\"./datafiles/STL/A_free.stl\"\n",
    "stl_dir_B = r\"./datafiles/STL/B_free.stl\"\n",
    "stl_dir_AB = r\"./datafiles/STL/AB_free.stl\"\n",
    "\n",
    "pos_xlsx = r\"./datafiles/geo_pos_dir.xlsx\"\n",
    "\n",
    "df_acc_A = pd.read_excel(pos_xlsx, sheet_name='Sensors_A')\n",
    "df_chn_A = pd.read_excel(pos_xlsx, sheet_name='Channels_A')\n",
    "df_imp_A = pd.read_excel(pos_xlsx, sheet_name='Impacts_A')\n",
    "\n",
    "df_acc_B = pd.read_excel(pos_xlsx, sheet_name='Sensors_B')\n",
    "df_chn_B = pd.read_excel(pos_xlsx, sheet_name='Channels_B')\n",
    "df_imp_B = pd.read_excel(pos_xlsx, sheet_name='Impacts_B')\n",
    "\n",
    "df_acc_AB = pd.read_excel(pos_xlsx, sheet_name='Sensors_AB')\n",
    "df_chn_AB = pd.read_excel(pos_xlsx, sheet_name='Channels_AB')\n",
    "df_imp_AB = pd.read_excel(pos_xlsx, sheet_name='Impacts_AB')"
   ]
  },
  {
   "cell_type": "markdown",
   "id": "ecda521f-6979-4b85-8a83-4b982fd40d7c",
   "metadata": {},
   "source": [
    "## 3D view\n",
    "Open 3D viewer in the background. With the 3D viewer the subplot capabilities of [PyVista](https://docs.pyvista.org/index.html) can be exploited."
   ]
  },
  {
   "cell_type": "code",
   "execution_count": null,
   "id": "df9c1fab-2e2b-4cf4-968a-6bc3b414d782",
   "metadata": {},
   "outputs": [],
   "source": [
    "view3D = pyFBS.view3D(show_origin = False, show_axes = False, shape = (1,3), title = \"Overview\")"
   ]
  },
  {
   "cell_type": "code",
   "execution_count": null,
   "id": "4171c4ba-da8d-428a-b912-5757f2bc7784",
   "metadata": {},
   "outputs": [],
   "source": [
    "view3D.plot.subplot(0,0)\n",
    "view3D.plot.isometric_view()\n",
    "view3D.plot.add_text(\"A structure\", position='upper_left', font_size=10, color=\"k\", font=\"times\", name=\"A_structure\")\n",
    "\n",
    "view3D.add_stl(stl_dir_A,color = \"#83afd2\",name = \"A\");\n",
    "view3D.show_acc(df_acc_A,scale = 1000)\n",
    "view3D.show_imp(df_imp_A,scale = 1000)\n",
    "view3D.show_chn(df_chn_A,scale = 1000)"
   ]
  },
  {
   "cell_type": "code",
   "execution_count": null,
   "id": "4d5e7a19-7089-48fb-891f-e1f318aeba9c",
   "metadata": {},
   "outputs": [],
   "source": [
    "view3D.plot.subplot(0,1)\n",
    "view3D.plot.isometric_view()\n",
    "view3D.plot.add_text(\"B structure\", position='upper_left', font_size=10, color=\"k\", font=\"times\", name=\"B_structure\")\n",
    "\n",
    "view3D.add_stl(stl_dir_B,color = \"#83afd2\",name = \"B\");\n",
    "view3D.show_acc(df_acc_B,scale = 1000,overwrite = False)\n",
    "view3D.show_imp(df_imp_B,scale = 1000,overwrite = False)\n",
    "view3D.show_chn(df_chn_B,scale = 1000,overwrite = False)"
   ]
  },
  {
   "cell_type": "code",
   "execution_count": null,
   "id": "830c123d-502d-4764-84c1-a0c8272f4a6c",
   "metadata": {},
   "outputs": [],
   "source": [
    "view3D.plot.subplot(0,2)\n",
    "view3D.plot.isometric_view()\n",
    "view3D.plot.add_text(\"AB structure\", position='upper_left', font_size=10, color=\"k\", font=\"times\", name=\"AB_structure\");\n",
    "\n",
    "view3D.add_stl(stl_dir_AB,color = \"#83afd2\",name = \"AB\");\n",
    "view3D.show_acc(df_acc_AB,scale = 1000,overwrite = False)\n",
    "view3D.show_imp(df_imp_AB,scale = 1000,overwrite = False)\n",
    "view3D.show_chn(df_chn_AB,scale = 1000,overwrite = False)"
   ]
  },
  {
   "cell_type": "code",
   "execution_count": null,
   "id": "4c6f63c8-94c5-403c-af58-f579883aee05",
   "metadata": {},
   "outputs": [],
   "source": [
    "view3D.plot.link_views()\n",
    "#view3D.plot.unlink_views()"
   ]
  },
  {
   "cell_type": "markdown",
   "id": "7cf54701-8653-40f6-9a4a-59b7b998abab",
   "metadata": {},
   "source": [
    "## Experimental example"
   ]
  },
  {
   "cell_type": "markdown",
   "id": "4c4439cf-1ca3-4bd6-8b5d-b85f6d4ffbb7",
   "metadata": {},
   "source": [
    "## B & A+B\n",
    "Load the experimental data of component B and reference assembly AB previously measured by us."
   ]
  },
  {
   "cell_type": "code",
   "execution_count": null,
   "id": "fcb20129-ce3e-42e1-ad19-f3d9fdf0868a",
   "metadata": {},
   "outputs": [],
   "source": [
    "YB_mea=np.load('./datafiles/EXP data FT/YB_mea.npy') # sub B data\n",
    "YAB_mea=np.load('./datafiles/EXP data FT/YAB_mea.npy') # AB assembled data - the reference\n",
    "\n",
    "YB_mea.shape, YAB_mea.shape"
   ]
  },
  {
   "cell_type": "code",
   "execution_count": null,
   "id": "04986158-1e61-416d-87cc-b2dbb68dd629",
   "metadata": {},
   "outputs": [],
   "source": [
    "freq = np.linspace(1, 2001, 2001)"
   ]
  },
  {
   "cell_type": "markdown",
   "id": "e6569db2-d533-472f-b046-63b2c073eadd",
   "metadata": {},
   "source": [
    "## A\n",
    "If you did not manage to get your own data, use our back up measurements, otherwise ignore the following block."
   ]
  },
  {
   "cell_type": "code",
   "execution_count": null,
   "id": "19bb6ef6-8fb7-4edd-88d5-36ec86368ad7",
   "metadata": {},
   "outputs": [],
   "source": [
    "YA_mea=np.load('./datafiles/EXP data FT/YA_meaBACKUP.npy') \n",
    "YA_mea.shape\n",
    "\n",
    "df_chn_A = pd.read_excel(pos_xlsx, sheet_name='Channels_A_BACKUP')\n",
    "df_imp_A = pd.read_excel(pos_xlsx, sheet_name='Impacts_A_BACKUP')\n"
   ]
  },
  {
   "cell_type": "markdown",
   "id": "76b92fd7-307f-45d5-8fa2-85a1154fbb9d",
   "metadata": {},
   "source": [
    "### Virtual Point Transformation\n",
    "Looking at the connection-type, a VPT with rigid IDMs seems to be ideal."
   ]
  },
  {
   "cell_type": "markdown",
   "id": "85c40d82-521d-4fb7-b9c3-d6af3bb2ec47",
   "metadata": {},
   "source": [
    "Load the virtual point informations."
   ]
  },
  {
   "cell_type": "code",
   "execution_count": null,
   "id": "def59d7e-8649-41bc-9e7d-8710508fbae8",
   "metadata": {},
   "outputs": [],
   "source": [
    "df_vp = pd.read_excel(pos_xlsx, sheet_name='VP_Channels')\n",
    "df_vpref = pd.read_excel(pos_xlsx, sheet_name='VP_RefChannels')"
   ]
  },
  {
   "cell_type": "markdown",
   "id": "00eebb5c-438c-4863-9159-5fd41805724f",
   "metadata": {},
   "source": [
    "Create the transformation matrices:"
   ]
  },
  {
   "cell_type": "code",
   "execution_count": null,
   "id": "47dc43d2-6f3f-45c9-b994-bfeeb09b558a",
   "metadata": {},
   "outputs": [],
   "source": [
    "vpt_A = pyFBS.VPT(df_chn_A,df_imp_A,df_vp,df_vpref)\n",
    "vpt_B = pyFBS.VPT(df_chn_B,df_imp_B,df_vp,df_vpref)"
   ]
  },
  {
   "cell_type": "markdown",
   "id": "d3e7a575-2f76-4f0b-be0c-07fcf38e4c16",
   "metadata": {},
   "source": [
    "Apply the defined VP transformation on the FRFs:"
   ]
  },
  {
   "cell_type": "code",
   "execution_count": null,
   "id": "b73abfa6-075c-4857-b960-4c9cce708164",
   "metadata": {},
   "outputs": [],
   "source": [
    "vpt_A.apply_VPT(freq,YA_mea)\n",
    "vpt_B.apply_VPT(freq,YB_mea)"
   ]
  },
  {
   "cell_type": "code",
   "execution_count": null,
   "id": "9b5dff4f-d1ca-4116-a377-fc3675825a2a",
   "metadata": {},
   "outputs": [],
   "source": [
    "plt.figure()\n",
    "plt.imshow(vpt_A.Ru.astype(bool), cmap='gray', interpolation='none')\n",
    "plt.colorbar()  # Optional: remove if you don't want the color scale\n",
    "plt.show()"
   ]
  },
  {
   "cell_type": "code",
   "execution_count": null,
   "id": "0db30893-ceb2-4c5b-9000-aa809bc8e87b",
   "metadata": {},
   "outputs": [],
   "source": [
    "plt.figure()\n",
    "plt.imshow(vpt_B.Ru.astype(bool), cmap='gray', interpolation='none')\n",
    "plt.colorbar()  # Optional: remove if you don't want the color scale\n",
    "plt.show()"
   ]
  },
  {
   "cell_type": "markdown",
   "id": "429fe7b3-406b-4dcb-9b83-bebb61ed034f",
   "metadata": {},
   "source": [
    "Extract the required transformed FRFs and the frequency vector:"
   ]
  },
  {
   "cell_type": "code",
   "execution_count": null,
   "id": "43b2e8e6-ffe8-423e-aa17-3e36d83175bf",
   "metadata": {},
   "outputs": [],
   "source": [
    "Y_A = vpt_A.vptData\n",
    "Y_B = vpt_B.vptData"
   ]
  },
  {
   "cell_type": "markdown",
   "id": "efe10e54-2c1f-4735-b2c8-5669526265b9",
   "metadata": {},
   "source": [
    "### Measurement quality indicators"
   ]
  },
  {
   "cell_type": "markdown",
   "id": "84d6bd17-4586-4ddd-8964-9d44d62a7224",
   "metadata": {},
   "source": [
    "Let's compare $\\boldsymbol{u}$ with the filtered $\\bar{\\boldsymbol{u}}= \\mathbf{R}_{\\text{u}}\\left( \\mathbf{R}_{\\text{u}} \\right)^+ \\boldsymbol{u}$ (and similarly for the forces) using DoF-specific and averaging criteria. For simplicity, let us check only subsystem A."
   ]
  },
  {
   "cell_type": "code",
   "execution_count": null,
   "id": "2bae597c-0fb2-4657-821c-b2fd3707956d",
   "metadata": {},
   "outputs": [],
   "source": [
    "vpt_A.consistency([20],[20])"
   ]
  },
  {
   "cell_type": "code",
   "execution_count": null,
   "id": "47722788-14dc-4481-89dc-bc90b5f12ca8",
   "metadata": {},
   "outputs": [],
   "source": [
    "spec_chn = pyFBS.barchart(np.arange(1,13,1), vpt_A.specific_sensor, color='steelblue', title='Specific Channel Consistency')\n",
    "spec_imp = pyFBS.barchart(np.arange(1,13,1), vpt_A.specific_impact, color='firebrick', title='Specific Impact Consistency')\n",
    "spec_chn | spec_imp"
   ]
  },
  {
   "cell_type": "code",
   "execution_count": null,
   "id": "6020a669-08a6-4f72-a6dd-adbd73108824",
   "metadata": {},
   "outputs": [],
   "source": [
    "pyFBS.plot_coh(vpt_A.freq, vpt_A.overall_sensor, color='steelblue', title='Overall Channel Consistency')"
   ]
  },
  {
   "cell_type": "code",
   "execution_count": null,
   "id": "50db42fe-f3b6-44b8-897b-0c0ae1e85b44",
   "metadata": {},
   "outputs": [],
   "source": [
    "pyFBS.plot_coh(vpt_A.freq, vpt_A.overall_impact, color='firebrick', title='Overall Impact Consistency')"
   ]
  },
  {
   "cell_type": "markdown",
   "id": "97ece22c-e91e-40be-9307-556f1cdb7111",
   "metadata": {},
   "source": [
    "### LM-FBS coupling"
   ]
  },
  {
   "cell_type": "markdown",
   "id": "8611bd33-0537-426f-a7ce-8f3bde498ef3",
   "metadata": {},
   "source": [
    "First, construct an admittance matrix for the uncoupled system, containing substructure admittances:"
   ]
  },
  {
   "cell_type": "markdown",
   "id": "a9b66153-f179-4b69-9738-c04c2d61e97b",
   "metadata": {},
   "source": [
    "$$\\mathbf{Y}^\\text{A|B} = \\begin{bmatrix} \n",
    "\\mathbf{Y}^\\text{A} & \\mathbf{0} \\\\\n",
    "\\mathbf{0} & \\mathbf{Y}^\\text{B}\n",
    "\\end{bmatrix}.$$"
   ]
  },
  {
   "cell_type": "code",
   "execution_count": null,
   "id": "fb45b194-fc11-4df3-8d81-998ebabd6b64",
   "metadata": {},
   "outputs": [],
   "source": [
    "Y_AnB = np.zeros((Y_A.shape[0],Y_A.shape[1]+Y_B.shape[1],Y_A.shape[2]+Y_B.shape[2]), dtype=complex)\n",
    "\n",
    "Y_AnB[:,:Y_A.shape[1],:Y_A.shape[2]] = Y_A\n",
    "Y_AnB[:,Y_A.shape[1]:,Y_A.shape[2]:] = Y_B"
   ]
  },
  {
   "cell_type": "markdown",
   "id": "2dc7a407-0b41-48e0-b9c5-f02f4935f3fd",
   "metadata": {},
   "source": [
    "Next the compatibility and the equilibrium conditions has to be defined through the signed Boolean matrices ``Bu`` and ``Bf``. "
   ]
  },
  {
   "cell_type": "markdown",
   "id": "55ebfe9e-bd71-45f5-a41a-32e36a036af5",
   "metadata": {},
   "source": [
    "$$\\mathbf{B}_\\text{u}\\,\\boldsymbol{u} = \\mathbf{0}$$\n",
    "$$\\boldsymbol{g} = - \\mathbf{B}_\\text{f}^\\text{T} \\boldsymbol{\\lambda}$$"
   ]
  },
  {
   "cell_type": "code",
   "execution_count": null,
   "id": "a6cc7623-f3f6-41c3-80da-5c9220f911ba",
   "metadata": {},
   "outputs": [],
   "source": [
    "k = 6 # number of collocated DoFs at the interface\n",
    "\n",
    "# Define the Boolean matrix for the compatibility and equilibrium conditions. Hint: Check the order and grouping index of displacements in A and B.\n",
    "Bu = np.zeros((k,Y_A.shape[1]+Y_B.shape[1]))\n",
    "\n",
    "startIndex = 3; # 4th Column (first virtual point DOF of A)\n",
    "Bu[:,startIndex:startIndex + 6] = np.identity(6)\n",
    "startIndex = startIndex + 6\n",
    "Bu[:,startIndex: startIndex + 6] = -np.identity(6)\n",
    "\n",
    "\n",
    "# Define the Boolean matrix for the equilibrium conditions. Hint: Check the order and grouping index of forces in A and B.\n",
    "Bf = np.zeros((k,Y_A.shape[2]+Y_B.shape[2]))\n",
    "startIndex = 3; # 7th Column (first virtual point DOF of B)\n",
    "Bf[:,startIndex:startIndex + 6] = np.identity(6)\n",
    "startIndex = startIndex + 6\n",
    "Bf[:,startIndex: startIndex + 6] = -np.identity(6)\n"
   ]
  },
  {
   "cell_type": "code",
   "execution_count": null,
   "id": "aca01bd1-f5f1-4edd-9a75-07bafd9066fd",
   "metadata": {},
   "outputs": [],
   "source": [
    "# visualize your Boolean matrix for verification\n",
    "\n",
    "plt.figure()\n",
    "plt.imshow(Bu)\n",
    "plt.colorbar(shrink=0.5)\n",
    "plt.xlabel('DoF')\n",
    "plt.ylabel('Number of \\n compatibility \\n conditions')"
   ]
  },
  {
   "cell_type": "code",
   "execution_count": null,
   "id": "d2691d30-ee0a-4c3b-bb05-4cabe3b21421",
   "metadata": {},
   "outputs": [],
   "source": [
    "# visualize your Boolean matrix for verification\n",
    "\n",
    "plt.figure()\n",
    "plt.imshow(Bf)\n",
    "plt.colorbar(shrink=0.5)\n",
    "plt.xlabel('DoF')\n",
    "plt.ylabel('Number of \\n compatibility \\n conditions')"
   ]
  },
  {
   "cell_type": "markdown",
   "id": "ad59327d-2278-45d1-9582-50f202b9cf45",
   "metadata": {},
   "source": [
    "For the LM-FBS method, having defined $\\mathbf{Y^{\\text{A|B}}}$, $\\mathbf{B}_\\text{u}$ and $\\mathbf{B}_\\text{f}$ is already sufficient to perform coupling:"
   ]
  },
  {
   "cell_type": "code",
   "execution_count": null,
   "id": "3687170e-5b05-45d3-aeb5-0536a9e5412a",
   "metadata": {},
   "outputs": [],
   "source": [
    "Y_ABn = np.zeros_like(Y_AnB,dtype = complex)\n",
    "\n",
    "Y_ABn = Y_AnB - Y_AnB@Bf.T@np.linalg.inv(Bu@Y_AnB@Bf.T)@Bu@Y_AnB"
   ]
  },
  {
   "cell_type": "markdown",
   "id": "b4c11642-933d-4af1-b529-9b2ac460c345",
   "metadata": {},
   "source": [
    "### Results\n",
    "First extract the FRFs at the reference DoFs:"
   ]
  },
  {
   "cell_type": "code",
   "execution_count": null,
   "id": "efc41376-93da-4bf7-bcce-171d37fcb81c",
   "metadata": {},
   "outputs": [],
   "source": [
    "arr_coup_out = [0,1,2,15,16,17,18,19,20,21,22,23] # acc to keep  \n",
    "arr_coup_in = [0,1,2,15,16,17,18,19,20,21,22,23,24] # force to keep\n",
    "Y_AB_coupled = Y_ABn[:,arr_coup_out,:][:,:,arr_coup_in]\n",
    "\n",
    "Y_AB_coupled.shape\n"
   ]
  },
  {
   "cell_type": "markdown",
   "id": "ddcb0d8a-8a08-4f79-b183-efe9e6b8ac7a",
   "metadata": {},
   "source": [
    "The coupled and the reference results of the assembled system AB can then be compared:"
   ]
  },
  {
   "cell_type": "code",
   "execution_count": null,
   "id": "f46c2e83-8661-4d59-83f6-5878f67f099f",
   "metadata": {},
   "outputs": [],
   "source": [
    "out = 9\n",
    "inp = 4\n",
    "\n",
    "coupled_response = Y_AB_coupled[:, out, inp]\n",
    "reference_response = YAB_mea[:, out, inp]\n",
    "\n",
    "# Plot the magnitude\n",
    "plt.figure(figsize=(10, 6))\n",
    "plt.subplot(2, 1, 1)\n",
    "plt.semilogy(freq, (np.abs(coupled_response)), label='Coupled')\n",
    "plt.semilogy(freq, (np.abs(reference_response)), label='Reference', linestyle='--')\n",
    "plt.ylabel('Magnitude ((m/s^2)/N)')\n",
    "plt.legend()\n",
    "plt.grid(True)\n",
    "\n",
    "# Plot the phase\n",
    "plt.subplot(2, 1, 2)\n",
    "plt.plot(freq, np.angle(coupled_response, deg=True), label='Coupled')\n",
    "plt.plot(freq, np.angle(reference_response, deg=True), label='Reference', linestyle='--')\n",
    "plt.ylabel('Phase (degrees)')\n",
    "plt.xlabel('Frequency (Hz)')\n",
    "plt.grid(True)\n",
    "\n",
    "plt.tight_layout()\n",
    "plt.show()"
   ]
  }
 ],
 "metadata": {
  "celltoolbar": "Slideshow",
  "kernelspec": {
   "display_name": "Python 3 (ipykernel)",
   "language": "python",
   "name": "python3"
  },
  "language_info": {
   "codemirror_mode": {
    "name": "ipython",
    "version": 3
   },
   "file_extension": ".py",
   "mimetype": "text/x-python",
   "name": "python",
   "nbconvert_exporter": "python",
   "pygments_lexer": "ipython3",
   "version": "3.12.7"
  }
 },
 "nbformat": 4,
 "nbformat_minor": 5
}
