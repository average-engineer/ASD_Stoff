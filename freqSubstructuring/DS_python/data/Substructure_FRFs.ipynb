{
 "cells": [
  {
   "cell_type": "code",
   "execution_count": 1,
   "id": "b5142084-4e42-4ca5-bf12-d086e15a4910",
   "metadata": {},
   "outputs": [],
   "source": [
    "import numpy as np"
   ]
  },
  {
   "cell_type": "code",
   "execution_count": 2,
   "id": "c48566d0-0e2b-466d-9884-22971f03851f",
   "metadata": {},
   "outputs": [],
   "source": [
    "def FRF_matrix(m, k, alpha, beta, f_start=0.01, f_end=5, f_resolution=0.01):\n",
    "    \"\"\"\n",
    "    Calculate structure FRFs for a free–free chain of masses & springs\n",
    "    with Rayleigh damping C = alpha*M + beta*K.\n",
    "\n",
    "    Parameters\n",
    "    ----------\n",
    "    m : array_like, shape (n,)\n",
    "        Masses at the n DOFs.\n",
    "    k : array_like, shape (n-1,)\n",
    "        Stiffnesses of the springs between DOFs.\n",
    "    alpha, beta : float\n",
    "        Rayleigh damping coefficients.\n",
    "    f_start, f_end, f_resolution : floats\n",
    "        Frequency sweep (Hz).\n",
    "\n",
    "    Returns\n",
    "    -------\n",
    "    freq : ndarray, shape (n_freq,)\n",
    "        Frequencies in Hz.\n",
    "    Y    : ndarray, shape (n, n, n_freq), complex\n",
    "        FRF tensor, Y[:, :, i] = inv[ K + i ω C − ω² M ] at freq[i].\n",
    "    \"\"\"\n",
    "    # frequency vector\n",
    "    freq  = np.arange(f_start, f_end, f_resolution)\n",
    "    omega = 2 * np.pi * freq          # rad/s\n",
    "    n     = len(m)\n",
    "\n",
    "    # Mass matrix\n",
    "    M = np.diag(m)\n",
    "\n",
    "    # Stiffness matrix K for free–free chain\n",
    "    # main diagonal: [k[0], k[0]+k[1], ..., k[n-2]+k[n-1], k[n-1]]\n",
    "    main_diag = np.empty(n)\n",
    "    main_diag[0]   = k[0]\n",
    "    main_diag[-1]  = k[-1]\n",
    "    main_diag[1:-1] = k[:-1] + k[1:]\n",
    "    # off-diagonals: -k between adjacent DOFs\n",
    "    K = np.diag(main_diag) \\\n",
    "      + np.diag(-k, 1)   \\\n",
    "      + np.diag(-k, -1)\n",
    "\n",
    "    # Damping matrix\n",
    "    C = alpha*M + beta*K\n",
    "\n",
    "    # Allocate FRF\n",
    "    n_freq = len(freq)\n",
    "    Y = np.empty((n_freq,n,n), dtype=complex)\n",
    "\n",
    "    # Loop over frequencies, build & invert each D(ω)\n",
    "    for i, ω in enumerate(omega):\n",
    "        D = K + 1j*ω*C - (ω**2)*M\n",
    "        Y[i,:, :] = np.linalg.inv(D)\n",
    "\n",
    "    return freq, Y\n"
   ]
  },
  {
   "cell_type": "code",
   "execution_count": 3,
   "id": "79352fd5",
   "metadata": {},
   "outputs": [],
   "source": [
    "alpha=0.019790752586283235\n",
    "beta= 0.00020062717328036815"
   ]
  },
  {
   "cell_type": "code",
   "execution_count": 4,
   "id": "64f41adc-04bb-4629-b80c-9951f3576c25",
   "metadata": {},
   "outputs": [],
   "source": [
    "mA = np.array([1,1,1,1])\n",
    "kA = np.array([200,200,200])"
   ]
  },
  {
   "cell_type": "code",
   "execution_count": 5,
   "id": "2c2cb76a-a55a-4f79-a7d4-1ca0213757d6",
   "metadata": {},
   "outputs": [],
   "source": [
    "np.save('Y_A', FRF_matrix(mA, kA, alpha, beta)[1])"
   ]
  },
  {
   "cell_type": "code",
   "execution_count": 6,
   "id": "561ef9d4-ff0e-454f-9566-44118cc2de68",
   "metadata": {},
   "outputs": [],
   "source": [
    "np.save('freq', FRF_matrix(mA, kA, alpha, beta)[0])"
   ]
  },
  {
   "cell_type": "code",
   "execution_count": 7,
   "id": "0aa01a53-48a8-408d-ac6d-9e24c7267b72",
   "metadata": {},
   "outputs": [],
   "source": [
    "mB = np.array([2,2,2,2])\n",
    "kB = np.array([100,100,100])"
   ]
  },
  {
   "cell_type": "code",
   "execution_count": 8,
   "id": "ee371377-b2d5-4625-a693-d49ca47ab8bf",
   "metadata": {},
   "outputs": [],
   "source": [
    "np.save('Y_B', FRF_matrix(mB, kB,alpha, beta)[1])"
   ]
  },
  {
   "cell_type": "code",
   "execution_count": 9,
   "id": "8152f4a8-1aa0-48f7-ac0e-914a56d248b9",
   "metadata": {},
   "outputs": [],
   "source": [
    "mAB = np.zeros(5)\n",
    "kAB = np.zeros(4)"
   ]
  },
  {
   "cell_type": "code",
   "execution_count": 10,
   "id": "e4a3adbb-fce5-43cf-9c7d-dbc808e9e0ed",
   "metadata": {},
   "outputs": [
    {
     "data": {
      "text/plain": [
       "array([1., 3., 3., 3., 2.])"
      ]
     },
     "execution_count": 10,
     "metadata": {},
     "output_type": "execute_result"
    }
   ],
   "source": [
    "mAB[:4] += mA\n",
    "mAB[1:] += mB\n",
    "mAB"
   ]
  },
  {
   "cell_type": "code",
   "execution_count": 11,
   "id": "0752af80-03b7-48ef-b6a4-f3f6eb37d239",
   "metadata": {},
   "outputs": [
    {
     "data": {
      "text/plain": [
       "array([200., 300., 300., 100.])"
      ]
     },
     "execution_count": 11,
     "metadata": {},
     "output_type": "execute_result"
    }
   ],
   "source": [
    "kAB[:3] += kA\n",
    "kAB[1:] += kB\n",
    "kAB"
   ]
  },
  {
   "cell_type": "code",
   "execution_count": 12,
   "id": "4e30b629-4817-42a9-81d0-ab7930d7e863",
   "metadata": {},
   "outputs": [],
   "source": [
    "np.save('Y_AB', FRF_matrix(mAB, kAB,alpha, beta)[1])"
   ]
  },
  {
   "cell_type": "code",
   "execution_count": null,
   "id": "0cac1200-7622-4d4c-8207-d76dcea57c40",
   "metadata": {},
   "outputs": [],
   "source": []
  }
 ],
 "metadata": {
  "kernelspec": {
   "display_name": "Python 3 (ipykernel)",
   "language": "python",
   "name": "python3"
  },
  "language_info": {
   "codemirror_mode": {
    "name": "ipython",
    "version": 3
   },
   "file_extension": ".py",
   "mimetype": "text/x-python",
   "name": "python",
   "nbconvert_exporter": "python",
   "pygments_lexer": "ipython3",
   "version": "3.10.9"
  }
 },
 "nbformat": 4,
 "nbformat_minor": 5
}
