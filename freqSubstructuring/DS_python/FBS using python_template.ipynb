{
 "cells": [
  {
   "cell_type": "code",
   "execution_count": 2,
   "id": "5c955082",
   "metadata": {
    "slideshow": {
     "slide_type": "skip"
    }
   },
   "outputs": [
    {
     "name": "stderr",
     "output_type": "stream",
     "text": [
      "C:\\Users\\Ashutosh Mukherjee\\AppData\\Local\\Temp\\ipykernel_14452\\3777615979.py:1: DeprecationWarning: Importing display from IPython.core.display is deprecated since IPython 7.14, please import from IPython.display\n",
      "  from IPython.core.display import display, HTML\n"
     ]
    },
    {
     "data": {
      "text/html": [
       "<style>.container { width:100% !important; }</style>"
      ],
      "text/plain": [
       "<IPython.core.display.HTML object>"
      ]
     },
     "metadata": {},
     "output_type": "display_data"
    }
   ],
   "source": [
    "from IPython.core.display import display, HTML\n",
    "display(HTML(\"<style>.container { width:100% !important; }</style>\"))"
   ]
  },
  {
   "cell_type": "markdown",
   "id": "c8334cc3",
   "metadata": {
    "slideshow": {
     "slide_type": "skip"
    }
   },
   "source": [
    "***"
   ]
  },
  {
   "cell_type": "markdown",
   "id": "909a2222",
   "metadata": {
    "slideshow": {
     "slide_type": "fragment"
    }
   },
   "source": [
    "# FBS using python: a simple multi-DoF case\n",
    "\n",
    "> Francesco Trainotti $\\,\\,$ *francesco.trainotti@tum.de* <br>\n",
    "\n",
    "> Advanced Structural Dynamics, DTU Copenhagen, 16-19 June 2025\n",
    "\n",
    "\n",
    "\n"
   ]
  },
  {
   "cell_type": "markdown",
   "id": "bdcabbe7",
   "metadata": {
    "slideshow": {
     "slide_type": "skip"
    }
   },
   "source": [
    "***"
   ]
  },
  {
   "cell_type": "markdown",
   "id": "3a32b2bb",
   "metadata": {
    "slideshow": {
     "slide_type": "slide"
    }
   },
   "source": [
    "## Introduction"
   ]
  },
  {
   "cell_type": "markdown",
   "id": "1bc4d9ae",
   "metadata": {
    "slideshow": {
     "slide_type": "fragment"
    }
   },
   "source": [
    "The dynamic properties of the system are described by the force balance, where the external forces are equal to the internal forces resulting from inertia, damping, and elasticity. \n",
    "The basic equation in the time domain for a linear dynamic system takes the following form:"
   ]
  },
  {
   "cell_type": "markdown",
   "id": "e05ff637",
   "metadata": {
    "slideshow": {
     "slide_type": "fragment"
    }
   },
   "source": [
    "$$\n",
    "\\mathbf{M} \\, \\boldsymbol{\\ddot{x}}(t) + \\mathbf{C} \\, \\boldsymbol{\\dot{x}}(t) + \\mathbf{K} \\, \\boldsymbol{x}(t) = \\boldsymbol{f}(t),\n",
    "$$"
   ]
  },
  {
   "cell_type": "markdown",
   "id": "657bfd9d",
   "metadata": {
    "slideshow": {
     "slide_type": "fragment"
    }
   },
   "source": [
    "where $\\mathbf{M}$ represents the mass matrix, $\\mathbf{C}$ the damping matrix, $\\mathbf{K}$ the stiffness matrix, $\\boldsymbol{x}$ vector of responses at all $n$ degrees of freedom (DoFs), and $\\boldsymbol{f}$ vector of externally applied forces."
   ]
  },
  {
   "cell_type": "markdown",
   "id": "fb187caf",
   "metadata": {
    "slideshow": {
     "slide_type": "slide"
    }
   },
   "source": [
    "We assume the following properties:"
   ]
  },
  {
   "cell_type": "markdown",
   "id": "02c56157",
   "metadata": {
    "slideshow": {
     "slide_type": "fragment"
    }
   },
   "source": [
    "* __Linearity__ - response amplitude is linearly proportional to the excitation amplitude."
   ]
  },
  {
   "cell_type": "markdown",
   "id": "01fa1dcf",
   "metadata": {
    "slideshow": {
     "slide_type": "fragment"
    }
   },
   "source": [
    "* __Time invariance__ - mass, stiffness, and damping characteristics are time-independent."
   ]
  },
  {
   "cell_type": "markdown",
   "id": "c591626f",
   "metadata": {
    "slideshow": {
     "slide_type": "fragment"
    }
   },
   "source": [
    "If we apply the Fourier transform, a time function of response $\\boldsymbol{x}(t)$ can be written in  the frequency domain ($\\boldsymbol{x}(\\omega)$) and the basic equation takes the following form: "
   ]
  },
  {
   "cell_type": "markdown",
   "id": "e8f3cdf9",
   "metadata": {
    "slideshow": {
     "slide_type": "fragment"
    }
   },
   "source": [
    "$$\n",
    "(- \\omega^2\\,\\mathbf{M} + i\\omega\\,\\mathbf{C}+  \\mathbf{K}) \\boldsymbol{x}(\\omega) = \\boldsymbol{f}(\\omega).\n",
    "$$"
   ]
  },
  {
   "cell_type": "markdown",
   "id": "49bf3a87",
   "metadata": {
    "slideshow": {
     "slide_type": "fragment"
    }
   },
   "source": [
    "The left-hand side can be collected into a single frequency-dependent matrix $\\mathbf{Z}(\\omega)$:"
   ]
  },
  {
   "cell_type": "markdown",
   "id": "c1659c9b",
   "metadata": {
    "slideshow": {
     "slide_type": "fragment"
    }
   },
   "source": [
    "$$\n",
    "\\mathbf{Z}(\\omega) \\boldsymbol{x}(\\omega) = \\boldsymbol{f}(\\omega).\n",
    "$$"
   ]
  },
  {
   "cell_type": "markdown",
   "id": "7f97312d",
   "metadata": {
    "slideshow": {
     "slide_type": "slide"
    }
   },
   "source": [
    "The **impedance matrix** $\\mathbf{Z}(\\omega)$ is also called the dynamic stiffness matrix. By inverting the mechanical impedance an admittance notation $\\mathbf{Y}(\\omega)$ can be obtained:"
   ]
  },
  {
   "cell_type": "markdown",
   "id": "b9e28a8f",
   "metadata": {
    "slideshow": {
     "slide_type": "fragment"
    }
   },
   "source": [
    "$$\n",
    "\\boldsymbol{u}(\\omega) = \\mathbf{Y}(\\omega) \\boldsymbol{f}(\\omega). \\qquad \\mathbf{Y}(\\omega) = \\left(\\mathbf{Z}(\\omega)\\right)^{-1}.\n",
    "$$"
   ]
  },
  {
   "cell_type": "markdown",
   "id": "00356475",
   "metadata": {
    "slideshow": {
     "slide_type": "fragment"
    }
   },
   "source": [
    "The $\\mathbf{Y}(\\omega)$ denotes the frequency response function matrix."
   ]
  },
  {
   "cell_type": "markdown",
   "id": "d0af88c1",
   "metadata": {
    "slideshow": {
     "slide_type": "slide"
    }
   },
   "source": [
    "## Simple discrete mass-spring system in Python"
   ]
  },
  {
   "cell_type": "markdown",
   "id": "767e4bd2",
   "metadata": {
    "slideshow": {
     "slide_type": "slide"
    }
   },
   "source": [
    "Let's first import some packages, which we will use for the calculations."
   ]
  },
  {
   "cell_type": "code",
   "execution_count": 3,
   "id": "1789e5dc",
   "metadata": {
    "slideshow": {
     "slide_type": "fragment"
    }
   },
   "outputs": [],
   "source": [
    "import numpy as np\n",
    "import scipy as sp\n",
    "import pandas as pd\n",
    "import matplotlib.pyplot as plt"
   ]
  },
  {
   "cell_type": "markdown",
   "id": "b37c357b",
   "metadata": {
    "slideshow": {
     "slide_type": "fragment"
    }
   },
   "source": [
    "Consider a simple discrete dynamic system with 4 degrees of freedom:\n",
    "\n",
    "<p>\n",
    "<img src=\"./pics/A.svg\"/ width = 400>\n",
    "</p>"
   ]
  },
  {
   "cell_type": "markdown",
   "id": "ef80278d",
   "metadata": {
    "slideshow": {
     "slide_type": "fragment"
    }
   },
   "source": [
    "Now let's define the mass matrix:\n",
    "\n",
    "$\n",
    "\\textbf{M} = \\begin{bmatrix}\n",
    "m_1 & 0 & 0 & 0 \\\\ \n",
    "0 & m_2 & 0 & 0 \\\\ \n",
    "0 & 0 & m_3 & 0 \\\\ \n",
    "0 & 0 & 0 & m_4 \\\\ \n",
    "\\end{bmatrix}\n",
    ".$\n"
   ]
  },
  {
   "cell_type": "code",
   "execution_count": 4,
   "id": "f961a50b",
   "metadata": {
    "slideshow": {
     "slide_type": "fragment"
    }
   },
   "outputs": [
    {
     "data": {
      "text/plain": [
       "array([[1, 0, 0, 0],\n",
       "       [0, 1, 0, 0],\n",
       "       [0, 0, 1, 0],\n",
       "       [0, 0, 0, 1]])"
      ]
     },
     "metadata": {},
     "output_type": "display_data"
    }
   ],
   "source": [
    "m1 = 1\n",
    "m2 = 1\n",
    "m3 = 1\n",
    "m4 = 1\n",
    "\n",
    "M = np.asarray([[m1,0,0,0],\n",
    "                [0,m2,0,0],\n",
    "                [0,0,m3,0],\n",
    "                [0,0,0,m4]])\n",
    "display(M)"
   ]
  },
  {
   "cell_type": "markdown",
   "id": "726f1afc",
   "metadata": {
    "slideshow": {
     "slide_type": "fragment"
    }
   },
   "source": [
    "Now let's define the stiffness matrix:\n",
    "\n",
    "$\n",
    "\\textbf{K} = \\begin{bmatrix}\n",
    "k_1 & -k_1 & 0 & 0 \\\\ \n",
    "-k_1 & k_1+k_2 & -k_2 & 0 \\\\ \n",
    "0 & -k_2 & k_2+k_3  & - k_3 \\\\ \n",
    "0 & 0 & -k_3 & k_3 \\\\ \n",
    "\\end{bmatrix}\n",
    ".$\n"
   ]
  },
  {
   "cell_type": "code",
   "execution_count": 5,
   "id": "013ea39b",
   "metadata": {
    "slideshow": {
     "slide_type": "fragment"
    }
   },
   "outputs": [
    {
     "data": {
      "text/plain": [
       "array([[ 200, -200,    0,    0],\n",
       "       [-200,  400, -200,    0],\n",
       "       [   0, -200,  400, -200],\n",
       "       [   0,    0, -200,  200]])"
      ]
     },
     "metadata": {},
     "output_type": "display_data"
    }
   ],
   "source": [
    "k1 = 200\n",
    "k2 = 200\n",
    "k3 = 200\n",
    "\n",
    "K = np.asarray([[k1,-k1,0,0],\n",
    "                [-k1,k1+k2,-k2,0],\n",
    "                [0,-k2,k2+k3,-k3],\n",
    "                [0,0,-k3,k3]])\n",
    "\n",
    "display(K)"
   ]
  },
  {
   "cell_type": "markdown",
   "id": "54eaab1f",
   "metadata": {
    "slideshow": {
     "slide_type": "slide"
    }
   },
   "source": [
    "### Solving eigenvalue problem (of the conservative system)"
   ]
  },
  {
   "cell_type": "markdown",
   "id": "8178e574",
   "metadata": {},
   "source": [
    "The eigenfrequencies and eigenvectors  can be determined from the equilibrium equation, when considering a system response with free vibrations:"
   ]
  },
  {
   "cell_type": "markdown",
   "id": "0ec878a5",
   "metadata": {},
   "source": [
    "$$\n",
    "(\\mathbf{K} - \\omega^2\\,\\mathbf{M}) \\boldsymbol{X} = \\boldsymbol{0}.\n",
    "$$"
   ]
  },
  {
   "cell_type": "markdown",
   "id": "13725094",
   "metadata": {},
   "source": [
    "Make sure to estimate eigenfrequencies $\\pmb{\\omega}_{r}$ and mass-normalized eigenvectors $\\boldsymbol{\\phi}_r$, such that:"
   ]
  },
  {
   "cell_type": "markdown",
   "id": "1937cb65",
   "metadata": {},
   "source": [
    "$$\n",
    "\\pmb{\\Phi}^{\\text{T}}\\,\\mathbf{M}\\,\\pmb{\\Phi} = [\\mathbf{I}], \n",
    "   \\qquad\n",
    "   \\pmb{\\Phi}^{\\text{T}}\\,\\mathbf{K}\\,\\pmb{\\Phi} = [^{\\nwarrow}{\\pmb{\\omega}_{r}^2}_{\\searrow}].\n",
    "$$"
   ]
  },
  {
   "cell_type": "code",
   "execution_count": 10,
   "id": "7a25a6d2",
   "metadata": {
    "slideshow": {
     "slide_type": "fragment"
    }
   },
   "outputs": [
    {
     "name": "stdout",
     "output_type": "stream",
     "text": [
      "[3.31137421e-08 1.72268069e+00 3.18309886e+00 4.15891909e+00]\n",
      "0.9999999999999999\n",
      "1.0000000000000004\n",
      "0.9999999999999988\n",
      "0.9999999999999989\n"
     ]
    }
   ],
   "source": [
    "# use a python eigensolver of choice to get as output (eig_val, eig_vec). Hint: use a dense generalized eigensolver\n",
    "from scipy import linalg\n",
    "# M -> right hand matrix, K -> matrix whose eigenvecs are computed\n",
    "[eig_val, eig_vec] = linalg.eigh(K,M)\n",
    "\n",
    "\n",
    "eig_val.sort()\n",
    "eig_freq = np.sqrt(np.abs(np.real(eig_val)))  \n",
    "\n",
    "print(eig_freq/(2*np.pi))\n",
    "\n",
    "for i in range(eig_vec.shape[1]):\n",
    "    phi = eig_vec[:, i]\n",
    "    mass_norm = phi.T @ M @ phi\n",
    "    print(mass_norm)"
   ]
  },
  {
   "cell_type": "code",
   "execution_count": 8,
   "id": "91307289-f58c-4137-9c1c-da7e25190016",
   "metadata": {},
   "outputs": [
    {
     "data": {
      "text/plain": [
       "array([[1, 0, 0, 0],\n",
       "       [0, 1, 0, 0],\n",
       "       [0, 0, 1, 0],\n",
       "       [0, 0, 0, 1]])"
      ]
     },
     "execution_count": 8,
     "metadata": {},
     "output_type": "execute_result"
    }
   ],
   "source": [
    "M"
   ]
  },
  {
   "cell_type": "markdown",
   "id": "daed69b2",
   "metadata": {
    "slideshow": {
     "slide_type": "slide"
    }
   },
   "source": [
    "### Adding damping"
   ]
  },
  {
   "cell_type": "markdown",
   "id": "56c4d7ab",
   "metadata": {
    "slideshow": {
     "slide_type": "fragment"
    }
   },
   "source": [
    "Let's add some damping in the form of proportional/Rayleigh, i.e.\n",
    "$\n",
    "\\mathbf{C}=\\alpha \\mathbf{M} + \\beta \\mathbf{K}\n",
    "$\n",
    "\n",
    "This translates in the following modal relationship:\n",
    "$\n",
    "\\zeta_i \\;=\\; \\frac{1}{2}(\\frac{\\alpha}{\\omega_i} \\;+\\; \\beta\\,\\omega_i)\n",
    "$"
   ]
  },
  {
   "cell_type": "markdown",
   "id": "22efbb20",
   "metadata": {
    "slideshow": {
     "slide_type": "fragment"
    }
   },
   "source": [
    "Let's compute the rayleigh coefficients given modal damping 0.2\\% and 0.3\\% at first and third flexible mode"
   ]
  },
  {
   "cell_type": "code",
   "execution_count": null,
   "id": "50af23c6",
   "metadata": {
    "slideshow": {
     "slide_type": "fragment"
    }
   },
   "outputs": [],
   "source": [
    "# build a function rayleigh_coeffs that takes (omegas, zetas) as inputs and get (alpha, beta) as outputs. Hint: use np.linalg.solve\n",
    "\n",
    "def rayleigh_coeffs(omegas, zetas):\n",
    "\n",
    "    omegas = np.asarray(omegas, dtype=float)\n",
    "    zetas  = np.asarray(zetas,  dtype=float)\n",
    "\n",
    "    ### missing code here ###\n",
    "\n",
    "\n",
    "    \n",
    "    return alpha, beta"
   ]
  },
  {
   "cell_type": "code",
   "execution_count": null,
   "id": "bb1d1067",
   "metadata": {
    "slideshow": {
     "slide_type": "fragment"
    }
   },
   "outputs": [],
   "source": [
    "omegas=eig_freq[[1,3]]\n",
    "zetas=[0.002, 0.003]\n",
    "\n",
    "alpha, beta= rayleigh_coeffs(omegas, zetas)\n",
    "print(alpha, beta)"
   ]
  },
  {
   "cell_type": "code",
   "execution_count": null,
   "id": "84568339",
   "metadata": {
    "slideshow": {
     "slide_type": "fragment"
    }
   },
   "outputs": [],
   "source": [
    "C = alpha*M + beta*K"
   ]
  },
  {
   "cell_type": "markdown",
   "id": "f728ed8d",
   "metadata": {
    "slideshow": {
     "slide_type": "slide"
    }
   },
   "source": [
    "## FRF generation in Python"
   ]
  },
  {
   "cell_type": "markdown",
   "id": "0e1d2c9b",
   "metadata": {
    "slideshow": {
     "slide_type": "fragment"
    }
   },
   "source": [
    "We will display the generation of frequency response functions in two different ways. First is the direct harmonic and second is the mode-superposition."
   ]
  },
  {
   "cell_type": "markdown",
   "id": "fa12ffbe",
   "metadata": {
    "slideshow": {
     "slide_type": "slide"
    }
   },
   "source": [
    "### Direct harmonic"
   ]
  },
  {
   "cell_type": "markdown",
   "id": "081ac591",
   "metadata": {
    "slideshow": {
     "slide_type": "fragment"
    }
   },
   "source": [
    "FRFs for the small systems can be efficiently computed using the direct harmonic method:"
   ]
  },
  {
   "cell_type": "markdown",
   "id": "84e60c50",
   "metadata": {
    "slideshow": {
     "slide_type": "fragment"
    }
   },
   "source": [
    "\n",
    "$$\\left(-\\omega^2\\mathbf{M}+ i\\omega \\mathbf{C}  + \\mathbf{K}\\right) \\, \\boldsymbol{X} = \\boldsymbol{F}.$$"
   ]
  },
  {
   "cell_type": "markdown",
   "id": "fb2dfa18",
   "metadata": {
    "slideshow": {
     "slide_type": "fragment"
    }
   },
   "source": [
    "So, the FRF matrix can be calculated as follows:\n",
    "\n",
    "$$\\boldsymbol{Y}(\\omega) =\\frac{\\boldsymbol{X}(\\omega)}{\\boldsymbol{F}(\\omega)} = (\\mathbf{K}+i\\omega \\mathbf{C}-\\omega^2\\mathbf{M})^{-1}.$$"
   ]
  },
  {
   "cell_type": "markdown",
   "id": "7a05a3f1",
   "metadata": {
    "slideshow": {
     "slide_type": "fragment"
    }
   },
   "source": [
    "Before generating the FRFs we first have to define the frequency vector:"
   ]
  },
  {
   "cell_type": "code",
   "execution_count": null,
   "id": "6e424296",
   "metadata": {
    "slideshow": {
     "slide_type": "fragment"
    }
   },
   "outputs": [],
   "source": [
    "f_start = 0.01\n",
    "f_end = 5\n",
    "f_resolution = .01\n",
    "freq = np.arange(f_start, f_end, f_resolution)\n",
    "\n",
    "ome = 2 * np.pi * freq"
   ]
  },
  {
   "cell_type": "code",
   "execution_count": null,
   "id": "a1c9a08f",
   "metadata": {
    "slideshow": {
     "slide_type": "fragment"
    }
   },
   "outputs": [],
   "source": [
    "# compute the FRF with the direct method at each frequency line. \n",
    "\n",
    "FRF1 = np.zeros((4, 4, len(freq)), dtype=complex)\n",
    "\n",
    "### missing code here ###\n"
   ]
  },
  {
   "cell_type": "code",
   "execution_count": null,
   "id": "54ccf415",
   "metadata": {
    "slideshow": {
     "slide_type": "fragment"
    }
   },
   "outputs": [],
   "source": [
    "plt.semilogy(freq,np.abs(FRF1[0,1,:]));\n",
    "plt.ylabel(r'$|Y|$ [m/N]')\n",
    "plt.xlabel('f [Hz]')\n"
   ]
  },
  {
   "cell_type": "markdown",
   "id": "c0e2bd59",
   "metadata": {
    "slideshow": {
     "slide_type": "fragment"
    }
   },
   "source": [
    "<div class=\"alert alert-block alert-warning\">\n",
    "    <i class=\"fa fa-question-circle\" aria-hidden=\"true\"></i>\n",
    "    <b>Question:</b> How is this FRF analysis numerically performed in a commercial FE software, and why?\n",
    "</div>"
   ]
  },
  {
   "cell_type": "markdown",
   "id": "a258c2ea",
   "metadata": {
    "slideshow": {
     "slide_type": "slide"
    }
   },
   "source": [
    "### Mode superposition"
   ]
  },
  {
   "cell_type": "markdown",
   "id": "0eb6fb05",
   "metadata": {
    "slideshow": {
     "slide_type": "fragment"
    }
   },
   "source": [
    "For FRF generation we can also use the modal superposition method, where contributions of modes are superposed at each frequency line using the equation: "
   ]
  },
  {
   "cell_type": "markdown",
   "id": "93ae00f9",
   "metadata": {
    "slideshow": {
     "slide_type": "fragment"
    }
   },
   "source": [
    "$$\n",
    "Y_{i,j}(\\omega)\n",
    "\\;=\\;\\sum_{r=1}^{m}\n",
    "\\frac{\\phi_{i,r}\\,\\phi_{j,r}}\n",
    "     {\\omega_r^2 \\;-\\;\\omega^2 \n",
    "      \\;+\\;i\\,\\omega\\bigl(\\alpha + \\beta\\,\\omega_r^2\\bigr)}\\,.\n",
    "$$\n"
   ]
  },
  {
   "cell_type": "code",
   "execution_count": null,
   "id": "33db2b92",
   "metadata": {
    "slideshow": {
     "slide_type": "fragment"
    }
   },
   "outputs": [],
   "source": [
    "# compute the FRF with the mode superposition method at each frequency line. \n",
    "\n",
    "FRF2 = np.zeros((4, 4, len(freq)), dtype=complex)\n",
    "\n",
    "### missing code here ###\n",
    "    "
   ]
  },
  {
   "cell_type": "code",
   "execution_count": null,
   "id": "1ea86f92",
   "metadata": {
    "slideshow": {
     "slide_type": "fragment"
    }
   },
   "outputs": [],
   "source": [
    "plt.semilogy(freq,np.abs(FRF2[0,1,:]));\n",
    "plt.ylabel(r'$|Y|$ [m/N]')\n",
    "plt.xlabel('f [Hz]')"
   ]
  },
  {
   "cell_type": "markdown",
   "id": "2828bc6f",
   "metadata": {
    "slideshow": {
     "slide_type": "fragment"
    }
   },
   "source": [
    "Now we can compare the two FRF synthetizations methods:"
   ]
  },
  {
   "cell_type": "code",
   "execution_count": null,
   "id": "aa315460",
   "metadata": {
    "slideshow": {
     "slide_type": "fragment"
    }
   },
   "outputs": [],
   "source": [
    "plt.semilogy(freq,np.abs(FRF1[0,1,:]), label='direct')\n",
    "plt.semilogy(freq,np.abs(FRF2[0,1,:]),'--', label='mode superposition');\n",
    "plt.ylabel(r'$|Y|$ [m/N]')\n",
    "plt.xlabel('f [Hz]')\n",
    "plt.legend()"
   ]
  },
  {
   "cell_type": "markdown",
   "id": "aae16aaf",
   "metadata": {
    "slideshow": {
     "slide_type": "fragment"
    }
   },
   "source": [
    "<div class=\"alert alert-block alert-warning\">\n",
    "    <i class=\"fa fa-question-circle\" aria-hidden=\"true\"></i>\n",
    "    <b>Question:</b> What is the main issue of mode-superposition for a large FE case? and how can it be corrected? Is there any other alternative to the classic mode-superposition?\n",
    "</div>"
   ]
  },
  {
   "cell_type": "markdown",
   "id": "952e9ee7",
   "metadata": {
    "slideshow": {
     "slide_type": "slide"
    }
   },
   "source": [
    "## Recap of frequency based substructuring (FBS) "
   ]
  },
  {
   "cell_type": "markdown",
   "id": "2893b51a",
   "metadata": {
    "slideshow": {
     "slide_type": "fragment"
    }
   },
   "source": [
    "Let's now assume two interacting subsystems to be assembled:"
   ]
  },
  {
   "cell_type": "markdown",
   "id": "3ca023ce",
   "metadata": {
    "slideshow": {
     "slide_type": "fragment"
    }
   },
   "source": [
    "<p>\n",
    "<center><img src=\"./pics/assembly.png\" width=400/></center>\n",
    "</p>"
   ]
  },
  {
   "cell_type": "markdown",
   "id": "5b448773",
   "metadata": {
    "slideshow": {
     "slide_type": "slide"
    }
   },
   "source": [
    "Combining the equation of motion with the interface conditions, i.e. compatibility of displacements and equilibrium of forces, the frequency-based formulation of the substructuring problem becomes:"
   ]
  },
  {
   "cell_type": "markdown",
   "id": "01a8f57b",
   "metadata": {
    "slideshow": {
     "slide_type": "fragment"
    }
   },
   "source": [
    "$\n",
    "\\begin{cases}\n",
    "\\mathbf{Z}(\\omega)\\,\\boldsymbol{u}(\\omega)=\\boldsymbol{f}(\\omega)+\\boldsymbol{g}(\\omega) \\\\ \\mathbf{B}\\,\\boldsymbol{u}(\\omega)=\\mathbf{0} \\\\ \\mathbf{L}^{\\mathrm T}\\boldsymbol{g}(\\omega)=\\mathbf{0}\n",
    "\\end{cases}\n",
    "$"
   ]
  },
  {
   "cell_type": "markdown",
   "id": "9a563a91",
   "metadata": {
    "slideshow": {
     "slide_type": "fragment"
    }
   },
   "source": [
    "where $\n",
    "\\mathbf{Z}(\\omega)\n",
    "=\n",
    "\\begin{bmatrix}\n",
    "\\mathbf{Z}^A(\\omega) & \\mathbf{0} \\\\[6pt]\n",
    "\\mathbf{0}           & \\mathbf{Z}^B(\\omega)\n",
    "\\end{bmatrix},\n",
    "\\quad\n",
    "\\boldsymbol{u}(\\omega)\n",
    "=\n",
    "\\begin{bmatrix}\n",
    "\\boldsymbol{u}^A(\\omega) \\\\[4pt]\n",
    "\\boldsymbol{u}^B(\\omega)\n",
    "\\end{bmatrix},\n",
    "\\quad\n",
    "\\boldsymbol{f}(\\omega)\n",
    "=\n",
    "\\begin{bmatrix}\n",
    "\\boldsymbol{f}^A(\\omega) \\\\[4pt]\n",
    "\\boldsymbol{f}^B(\\omega)\n",
    "\\end{bmatrix},\n",
    "\\quad\n",
    "\\boldsymbol{g}(\\omega)\n",
    "=\n",
    "\\begin{bmatrix}\n",
    "\\boldsymbol{g}^A(\\omega) \\\\[4pt]\n",
    "\\boldsymbol{g}^B(\\omega)\n",
    "\\end{bmatrix}.\n",
    "$\n"
   ]
  },
  {
   "cell_type": "markdown",
   "id": "e9af0150",
   "metadata": {
    "slideshow": {
     "slide_type": "fragment"
    }
   },
   "source": [
    "The signed Boolean matrix $\\mathbf{B}=\n",
    "\\begin{bmatrix}\n",
    "\\mathbf{0} & -\\mathbf{I} &  \\mathbf{I} & \\mathbf{0} \n",
    "\\end{bmatrix}$ maps the corresponding matching interface DoFs. Each row of the matrix identifies a single pair of interface DoFs to be connected.\n"
   ]
  },
  {
   "cell_type": "markdown",
   "id": "87daf42a",
   "metadata": {
    "slideshow": {
     "slide_type": "fragment"
    }
   },
   "source": [
    "The localization Boolean matrix $\\mathbf{L}=\n",
    "\\begin{bmatrix}\n",
    "\\mathbf{I} & \\mathbf{0} &  \\mathbf{0} \\\\ \n",
    "\\mathbf{0} & \\mathbf{I} & \\mathbf{0} \\\\\n",
    "\\mathbf{0} & \\mathbf{I} &  \\mathbf{0} \\\\\n",
    "\\mathbf{0} & \\mathbf{0} &  \\mathbf{I} \n",
    "\\end{bmatrix}\n",
    "$ maps the physical DoFs of all subsystems to the unique set of interface DoFs such that $\\mathbf{L}=\\text{null}(\\mathbf{B})$."
   ]
  },
  {
   "cell_type": "markdown",
   "id": "ef0d90cf",
   "metadata": {
    "slideshow": {
     "slide_type": "fragment"
    }
   },
   "source": [
    "From here on the frequency-dependence will be omitted for simplicity."
   ]
  },
  {
   "cell_type": "markdown",
   "id": "2f7fd313",
   "metadata": {
    "slideshow": {
     "slide_type": "slide"
    }
   },
   "source": [
    "### Dual Formulation: LM-FBS"
   ]
  },
  {
   "cell_type": "markdown",
   "id": "2c39086a",
   "metadata": {
    "slideshow": {
     "slide_type": "fragment"
    }
   },
   "source": [
    "Starting from the general formulation of the substructuring problem, the dual approach chooses Lagrange multipliers $\\boldsymbol{\\lambda}$ as set of coupling forces according to the relation $\\boldsymbol{g}=-\\mathbf{B}^{\\mathrm T}\\boldsymbol{\\lambda}$. The equilibrium is thus satisfied a priori."
   ]
  },
  {
   "cell_type": "markdown",
   "id": "2ff2a024",
   "metadata": {
    "slideshow": {
     "slide_type": "fragment"
    }
   },
   "source": [
    "The equations of motion of the substructuring problem become:"
   ]
  },
  {
   "cell_type": "markdown",
   "id": "976276f2",
   "metadata": {
    "slideshow": {
     "slide_type": "fragment"
    }
   },
   "source": [
    "$\\begin{cases}\n",
    "\\mathbf{Z}^\\mathrm{A|B}\\boldsymbol{u}=\\boldsymbol{f}-\\mathbf{B}^\\mathrm{T}\\boldsymbol{\\lambda} \\\\ \\mathbf{B}\\,\\boldsymbol{u}=\\mathbf{0} \n",
    "\\end{cases}$."
   ]
  },
  {
   "cell_type": "markdown",
   "id": "c3eb5f06",
   "metadata": {
    "slideshow": {
     "slide_type": "fragment"
    }
   },
   "source": [
    "To solve the system equations, let's first write them in the admittance notation:"
   ]
  },
  {
   "cell_type": "markdown",
   "id": "00a2c3db",
   "metadata": {
    "slideshow": {
     "slide_type": "fragment"
    }
   },
   "source": [
    "$\\begin{cases}\n",
    "\\boldsymbol{u}=\\mathbf{Y}^\\mathrm{A|B}(\\boldsymbol{f}-\\mathbf{B}^\\mathrm{T}\\boldsymbol{\\lambda}) \\\\ \\mathbf{B}\\,\\boldsymbol{u}=\\mathbf{0} \n",
    "\\end{cases}, \\qquad \\mathbf{Y}^\\mathrm{A|B}=\\begin{bmatrix}\n",
    "\\mathbf{Y}^\\mathrm A & \\mathbf{0} \\\\ \n",
    "\\mathbf{0} & \\mathbf{Y}^\\mathrm B\n",
    "\\end{bmatrix}$"
   ]
  },
  {
   "cell_type": "markdown",
   "id": "e118e26e",
   "metadata": {
    "slideshow": {
     "slide_type": "slide"
    }
   },
   "source": [
    "By substituting the first line in the second line (compatibility constraint) and solving for $\\boldsymbol{\\lambda}$:"
   ]
  },
  {
   "cell_type": "markdown",
   "id": "73dae865",
   "metadata": {
    "slideshow": {
     "slide_type": "fragment"
    }
   },
   "source": [
    "$\\boldsymbol{\\lambda}=\\left(\\mathbf{B}\\mathbf{Y}^\\mathrm{A|B}\\mathbf{B}^\\mathrm{T}\\right)^{-1}\\mathbf{B}\\mathbf{Y}^\\mathrm{A|B}\\boldsymbol{f}$"
   ]
  },
  {
   "cell_type": "markdown",
   "id": "fe60501c",
   "metadata": {
    "slideshow": {
     "slide_type": "fragment"
    }
   },
   "source": [
    "By substituting back the $\\boldsymbol{\\lambda}$ in the first line of the governing equation of motion:"
   ]
  },
  {
   "cell_type": "markdown",
   "id": "b06fbe19",
   "metadata": {
    "slideshow": {
     "slide_type": "fragment"
    }
   },
   "source": [
    "$\\boldsymbol{u}=(\\mathbf{Y}^\\mathrm{A|B}-\\mathbf{Y}^\\mathrm{A|B}\\mathbf{B}^\\mathrm{T}\\left(\\mathbf{B}\\mathbf{Y}^\\mathrm{A|B}\\mathbf{B}^\\mathrm{T}\\right)^{-1}\\mathbf{B}\\mathbf{Y}^\\mathrm{A|B})\\boldsymbol{f}$"
   ]
  },
  {
   "cell_type": "markdown",
   "id": "efd6a571",
   "metadata": {
    "slideshow": {
     "slide_type": "fragment"
    }
   },
   "source": [
    "<div class=\"alert alert-block alert-warning\">\n",
    "    <i class=\"fa fa-question-circle\" aria-hidden=\"true\"></i>\n",
    "    <b>Question:</b> Why FBS has become popular among substructuring formulations? \n",
    "</div>"
   ]
  },
  {
   "cell_type": "markdown",
   "id": "74fb6efa",
   "metadata": {
    "slideshow": {
     "slide_type": "slide"
    }
   },
   "source": [
    "## LM-FBS coupling in Python"
   ]
  },
  {
   "cell_type": "markdown",
   "id": "4181a692",
   "metadata": {
    "slideshow": {
     "slide_type": "fragment"
    }
   },
   "source": [
    "Two substructures to be coupled are both simple discrete mass systems and each has 4 degrees of freedom. Substructure **A** is depicted in <font color='blue'>**blue**</font>: "
   ]
  },
  {
   "cell_type": "markdown",
   "id": "12d1206f",
   "metadata": {
    "slideshow": {
     "slide_type": "fragment"
    }
   },
   "source": [
    "<p>\n",
    "<img src=\"./pics/A.svg\"/ width = 400>\n",
    "</p>"
   ]
  },
  {
   "cell_type": "markdown",
   "id": "7bd2297f",
   "metadata": {
    "slideshow": {
     "slide_type": "fragment"
    }
   },
   "source": [
    "And substructure **B** is depicted in <font color='red'>**red**</font> color:"
   ]
  },
  {
   "cell_type": "markdown",
   "id": "c04ee6d9",
   "metadata": {
    "slideshow": {
     "slide_type": "fragment"
    }
   },
   "source": [
    "\n",
    "<p>\n",
    "<img src=\"./pics/B.svg\"/ width = 400>\n",
    "</p>"
   ]
  },
  {
   "cell_type": "markdown",
   "id": "cbdc4117",
   "metadata": {
    "slideshow": {
     "slide_type": "slide"
    }
   },
   "source": [
    "The same approach as before is used to synthesize FRFs for substructure **B** that consist of the following masses, springs and rayleigh parameters:"
   ]
  },
  {
   "cell_type": "markdown",
   "id": "bd58bb37",
   "metadata": {
    "slideshow": {
     "slide_type": "fragment"
    }
   },
   "source": [
    "$m_5,\\,m_6,\\,m_7,\\,m_8 = 2\\,\\text{kg}$\n",
    "\n",
    "$k_4,\\,k_5,\\,k_6 = 100\\,\\text{N/m}$\n",
    "\n",
    "$\\alpha=0.019790752586283235,\\ \\beta=0.00020062717328036815$"
   ]
  },
  {
   "cell_type": "markdown",
   "id": "d2d6c676",
   "metadata": {
    "slideshow": {
     "slide_type": "slide"
    }
   },
   "source": [
    "Now let's examine the coupling configuration **AB**. DoFs <font color='blue'>**2, 3, 4**</font> and <font color='red'>**5, 6, 7**</font> from individual substructures are collocated so the assembly looks like this:"
   ]
  },
  {
   "cell_type": "markdown",
   "id": "128c260c",
   "metadata": {
    "slideshow": {
     "slide_type": "fragment"
    }
   },
   "source": [
    "<p>\n",
    "<img src=\"./pics/A_B.svg\"/ width = 400>\n",
    "</p>"
   ]
  },
  {
   "cell_type": "markdown",
   "id": "c1bc0629",
   "metadata": {
    "slideshow": {
     "slide_type": "fragment"
    }
   },
   "source": [
    "Hence interface between substructures consists of 3 degrees of freedom. The following sets of responses, applied forces, interface forces and uncoupled admittance can be defined from the figure above:"
   ]
  },
  {
   "cell_type": "markdown",
   "id": "92e0e610",
   "metadata": {
    "slideshow": {
     "slide_type": "fragment"
    }
   },
   "source": [
    "$$\\boldsymbol{u} = \\begin{bmatrix}u_1^\\text{A}\\\\u_2^\\text{A}\\\\u_3^\\text{A}\\\\u_4^\\text{A}\\\\\n",
    "                                u_5^\\text{B}\\\\u_6^\\text{B}\\\\u_7^\\text{B}\\\\u_8^\\text{B}\\end{bmatrix},\\quad\\boldsymbol{f} = \\begin{bmatrix}f_1^\\text{A}\\\\f_2^\\text{A}\\\\f_3^\\text{A}\\\\f_4^\\text{A}\\\\\n",
    "                                f_5^\\text{B}\\\\f_6^\\text{B}\\\\f_7^\\text{B}\\\\f_8^\\text{B}\\end{bmatrix},\\quad\\boldsymbol{g} = \\begin{bmatrix}0\\\\g_2^\\text{A}\\\\g_3^\\text{A}\\\\g_4^\\text{A}\\\\\n",
    "                                g_5^\\text{B}\\\\g_6^\\text{B}\\\\g_7^\\text{B}\\\\0\\end{bmatrix}\\quad\\mathbf{Y}^{\\text{A|B}} = \n",
    "                                \\begin{bmatrix}\n",
    "                                Y_{11}^{\\text{A}}&Y_{12}^{\\text{A}}&Y_{13}^{\\text{A}}&Y_{14}^{\\text{A}}&0&0&0&0\\\\\n",
    "                                Y_{21}^{\\text{A}}&Y_{22}^{\\text{A}}&Y_{23}^{\\text{A}}&Y_{24}^{\\text{A}}&0&0&0&0\\\\\n",
    "                                Y_{31}^{\\text{A}}&Y_{32}^{\\text{A}}&Y_{33}^{\\text{A}}&Y_{34}^{\\text{A}}&0&0&0&0\\\\\n",
    "                                Y_{41}^{\\text{A}}&Y_{42}^{\\text{A}}&Y_{43}^{\\text{A}}&Y_{44}^{\\text{A}}&0&0&0&0\\\\\n",
    "                                0&0&0&0&Y_{55}^{\\text{B}}&Y_{56}^{\\text{B}}&Y_{57}^{\\text{B}}&Y_{58}^{\\text{B}}\\\\\n",
    "                                0&0&0&0&Y_{65}^{\\text{B}}&Y_{66}^{\\text{B}}&Y_{67}^{\\text{B}}&Y_{68}^{\\text{B}}\\\\\n",
    "                                0&0&0&0&Y_{75}^{\\text{B}}&Y_{76}^{\\text{B}}&Y_{77}^{\\text{B}}&Y_{78}^{\\text{B}}\\\\\n",
    "                                0&0&0&0&Y_{85}^{\\text{B}}&Y_{86}^{\\text{B}}&Y_{87}^{\\text{B}}&Y_{88}^{\\text{B}}\n",
    "                                \\end{bmatrix}$$"
   ]
  },
  {
   "cell_type": "markdown",
   "id": "ac4d59ed",
   "metadata": {
    "slideshow": {
     "slide_type": "slide"
    }
   },
   "source": [
    "First, we import admittance matrices for each substructure ($\\mathbf{Y}^\\text{A}$ and $\\mathbf{Y}^\\text{B}$, respectively). For this example we use a full-DoF response models, which means FRFs for response and excitation at each combination of DoFs must be included."
   ]
  },
  {
   "cell_type": "code",
   "execution_count": null,
   "id": "09e24ff7",
   "metadata": {
    "slideshow": {
     "slide_type": "fragment"
    }
   },
   "outputs": [],
   "source": [
    "Y_A = np.load('./data/Y_A.npy')\n",
    "Y_B = np.load('./data/Y_B.npy')\n",
    "Y_A.shape, Y_B.shape"
   ]
  },
  {
   "cell_type": "code",
   "execution_count": null,
   "id": "9cb1905c",
   "metadata": {
    "slideshow": {
     "slide_type": "fragment"
    }
   },
   "outputs": [],
   "source": [
    "freq = np.load('./data/freq.npy')\n",
    "freq.shape"
   ]
  },
  {
   "cell_type": "markdown",
   "id": "e9770b79",
   "metadata": {
    "slideshow": {
     "slide_type": "fragment"
    }
   },
   "source": [
    "Next, construct an admittance matrix for an uncoupled system, containing substructure admittances:"
   ]
  },
  {
   "cell_type": "markdown",
   "id": "8eba928b",
   "metadata": {
    "slideshow": {
     "slide_type": "fragment"
    }
   },
   "source": [
    "$$\\mathbf{Y}^\\text{A|B} = \\begin{bmatrix} \n",
    "\\mathbf{Y}^\\text{A} & \\mathbf{0} \\\\\n",
    "\\mathbf{0} & \\mathbf{Y}^\\text{B}\n",
    "\\end{bmatrix}$$"
   ]
  },
  {
   "cell_type": "code",
   "execution_count": null,
   "id": "d3d45e87",
   "metadata": {
    "slideshow": {
     "slide_type": "fragment"
    }
   },
   "outputs": [],
   "source": [
    "# Construct the uncoupled admittance Y_A_B\n",
    "\n",
    "# prepare matrix full of zeros\n",
    "Y_A_B = np.zeros((Y_A.shape[0], Y_A.shape[1]+Y_B.shape[1], Y_A.shape[2]+Y_B.shape[2]), dtype=complex) \n",
    "\n",
    "### missing code here ###\n"
   ]
  },
  {
   "cell_type": "code",
   "execution_count": null,
   "id": "5294779b",
   "metadata": {
    "slideshow": {
     "slide_type": "fragment"
    }
   },
   "outputs": [],
   "source": [
    "# visualize your uncoupled admittance for verification\n",
    "\n",
    "plt.spy(Y_A_B[0,:,:]) \n",
    "plt.xlabel('DoF')\n",
    "plt.ylabel('DoF')\n",
    "plt.xticks(np.arange(0,8,1),np.arange(1,9,1))\n",
    "plt.yticks(np.arange(0,8,1),np.arange(1,9,1));"
   ]
  },
  {
   "cell_type": "markdown",
   "id": "71f1c9b9",
   "metadata": {
    "slideshow": {
     "slide_type": "slide"
    }
   },
   "source": [
    "Now we must define compatibility and equilibrium conditions. Let us start with compatibility and put down all the interface DoFs where displacements of the individual substructures must match:"
   ]
  },
  {
   "cell_type": "markdown",
   "id": "0a70d114",
   "metadata": {
    "slideshow": {
     "slide_type": "fragment"
    }
   },
   "source": [
    "$$u_2^{\\text{A}}=u_5^{\\text{B}}\\quad\\Rightarrow\\quad u_5^{\\text{B}}-u_2^{\\text{A}}=0$$\\\n",
    "$$u_3^{\\text{A}}=u_6^{\\text{B}}\\quad\\Rightarrow\\quad u_6^{\\text{B}}-u_3^{\\text{A}}=0$$\\\n",
    "$$u_4^{\\text{A}}=u_7^{\\text{B}}\\quad\\Rightarrow\\quad u_7^{\\text{B}}-u_4^{\\text{A}}=0$$"
   ]
  },
  {
   "cell_type": "markdown",
   "id": "302d3110",
   "metadata": {
    "slideshow": {
     "slide_type": "fragment"
    }
   },
   "source": [
    "We can now simply form Boolean matrix $\\mathbf{B}$ so when multiplying $\\mathbf{B}\\,\\boldsymbol{u}$ we obtain compatibility conditions stated above. We need to obtain three equations, so the number of rows equals 3, and we need to incorporate all 8 DoFs, so 8 is the number is columns. To summarize, shape of $\\mathbf{B}$ equals $3\\,\\times\\,8$."
   ]
  },
  {
   "cell_type": "code",
   "execution_count": null,
   "id": "ad179000",
   "metadata": {
    "slideshow": {
     "slide_type": "fragment"
    }
   },
   "outputs": [],
   "source": [
    "B = np.zeros((3,8))"
   ]
  },
  {
   "cell_type": "markdown",
   "id": "33633e8d",
   "metadata": {
    "slideshow": {
     "slide_type": "fragment"
    }
   },
   "source": [
    "Multiplying first row of $\\mathbf{B}$ with $\\boldsymbol{u}$ should yield $u_5^{\\text{B}}-u_2^{\\text{A}}=0$:"
   ]
  },
  {
   "cell_type": "markdown",
   "id": "c7e7cff5",
   "metadata": {
    "slideshow": {
     "slide_type": "fragment"
    }
   },
   "source": [
    "$$\\begin{bmatrix}0&-1&0&0&1&0&0&0\\end{bmatrix}\\begin{bmatrix}u_1^\\text{A}\\\\u_2^\\text{A}\\\\u_3^\\text{A}\\\\u_4^\\text{A}\\\\\n",
    "                                u_5^\\text{B}\\\\u_6^\\text{B}\\\\u_7^\\text{B}\\\\u_8^\\text{B}\\end{bmatrix} = u_5^{\\text{B}}-u_2^{\\text{A}} = 0$$"
   ]
  },
  {
   "cell_type": "markdown",
   "id": "60c975a9",
   "metadata": {
    "slideshow": {
     "slide_type": "fragment"
    }
   },
   "source": [
    "We therefore write the first row of $\\mathbf{B}$ as:"
   ]
  },
  {
   "cell_type": "code",
   "execution_count": null,
   "id": "b6aa358d",
   "metadata": {
    "slideshow": {
     "slide_type": "fragment"
    }
   },
   "outputs": [],
   "source": [
    "B[0,:] = np.array([0,-1,0,0,1,0,0,0])"
   ]
  },
  {
   "cell_type": "markdown",
   "id": "4a858e3f",
   "metadata": {
    "slideshow": {
     "slide_type": "fragment"
    }
   },
   "source": [
    "Then we do the same with the second and third row:"
   ]
  },
  {
   "cell_type": "code",
   "execution_count": null,
   "id": "0ab38598",
   "metadata": {
    "slideshow": {
     "slide_type": "fragment"
    }
   },
   "outputs": [],
   "source": [
    "# Build second and third row of B\n",
    "\n",
    "### missing code here ###\n"
   ]
  },
  {
   "cell_type": "code",
   "execution_count": null,
   "id": "3d2b0dd9",
   "metadata": {
    "slideshow": {
     "slide_type": "fragment"
    }
   },
   "outputs": [],
   "source": [
    "# visualize your Boolean matrix for verification\n",
    "\n",
    "plt.imshow(B)\n",
    "plt.colorbar(shrink=0.5)\n",
    "plt.xlabel('DoF')\n",
    "plt.ylabel('Number of \\n compatibility \\n conditions')\n",
    "plt.xticks(np.arange(0,8,1), np.arange(1,9,1))\n",
    "plt.yticks(np.arange(0,3,1), np.arange(1,4,1));"
   ]
  },
  {
   "cell_type": "markdown",
   "id": "e12ac3cd",
   "metadata": {
    "slideshow": {
     "slide_type": "slide"
    }
   },
   "source": [
    "We can finally apply the LM-FBS coupling equation:"
   ]
  },
  {
   "cell_type": "markdown",
   "id": "c30e92f0",
   "metadata": {
    "slideshow": {
     "slide_type": "fragment"
    }
   },
   "source": [
    "$$\\mathbf Y^{\\text{AB}} = \\mathbf Y^{\\text{A|B}} - \\mathbf Y^{\\text{A|B}}\\,\\mathbf B^\\mathrm{T} \\left( \\mathbf B \\mathbf Y^{\\mathrm{A|B}} \\mathbf{B}^\\mathrm{T} \\right)^{-1} \\mathbf B \\mathbf Y^\\text{A|B}$$"
   ]
  },
  {
   "cell_type": "code",
   "execution_count": null,
   "id": "e2d927c0",
   "metadata": {
    "slideshow": {
     "slide_type": "fragment"
    }
   },
   "outputs": [],
   "source": [
    "Y_AB = Y_A_B - Y_A_B @ B.T @ np.linalg.inv(B@Y_A_B@B.T) @ B @ Y_A_B\n",
    "Y_AB.shape"
   ]
  },
  {
   "cell_type": "markdown",
   "id": "000cd615",
   "metadata": {
    "slideshow": {
     "slide_type": "fragment"
    }
   },
   "source": [
    "In this manner we obtain the admittance for the following structure:"
   ]
  },
  {
   "cell_type": "markdown",
   "id": "6bd0302a",
   "metadata": {
    "slideshow": {
     "slide_type": "fragment"
    }
   },
   "source": [
    "\n",
    "<p>\n",
    "<img src=\"./pics/AB.svg\"/ width = 400>\n",
    "</p>"
   ]
  },
  {
   "cell_type": "markdown",
   "id": "d386497f",
   "metadata": {
    "slideshow": {
     "slide_type": "fragment"
    }
   },
   "source": [
    "Let's remove the redundant interface entries from the $\\mathbf{Y}^{\\text{AB}}$ matrix manually:"
   ]
  },
  {
   "cell_type": "code",
   "execution_count": null,
   "id": "9560c551",
   "metadata": {
    "slideshow": {
     "slide_type": "fragment"
    }
   },
   "outputs": [],
   "source": [
    "Y_AB_unique = Y_AB[:,[[0],[1],[2],[3],[-1]],[0,1,2,3,-1]]\n",
    "Y_AB_unique.shape"
   ]
  },
  {
   "cell_type": "markdown",
   "id": "25cceab5",
   "metadata": {
    "slideshow": {
     "slide_type": "slide"
    }
   },
   "source": [
    "And for the final step, let us compare coupled FRFs of AB assembly with actual ones:"
   ]
  },
  {
   "cell_type": "code",
   "execution_count": null,
   "id": "137b2a74",
   "metadata": {
    "slideshow": {
     "slide_type": "fragment"
    }
   },
   "outputs": [],
   "source": [
    "Y_AB_true = np.load('./data/Y_AB.npy')"
   ]
  },
  {
   "cell_type": "code",
   "execution_count": null,
   "id": "8d093131",
   "metadata": {
    "scrolled": true,
    "slideshow": {
     "slide_type": "fragment"
    }
   },
   "outputs": [],
   "source": [
    "i = 0\n",
    "o = 0\n",
    "\n",
    "plt.subplots(figsize=(10,6))\n",
    "plt.subplot(211)\n",
    "plt.semilogy(freq, np.abs(Y_AB_unique[:,o,i]), color='k', label='Coupled FRF')\n",
    "plt.semilogy(freq, np.abs(Y_AB_true[:,o,i]), '--', color='orange', label='Reference FRF')\n",
    "plt.legend(loc=0)\n",
    "plt.ylabel(r'$|Y|$ [m/N]')\n",
    "\n",
    "plt.subplot(212)\n",
    "plt.plot(freq, np.angle(Y_AB_unique[:,o,i]), color='k', label='Coupled FRF')\n",
    "plt.plot(freq, np.angle(Y_AB_true[:,o,i]), '--', color='orange', label='Reference FRF')\n",
    "plt.xlabel('f [Hz]')\n",
    "plt.ylabel(r'$\\angle Y$ [rad]');"
   ]
  },
  {
   "cell_type": "markdown",
   "id": "747240fb-39da-4801-8817-b163292b7e3a",
   "metadata": {},
   "source": [
    "## Takeaway\n",
    "Identification of interface very difficult for real systems"
   ]
  },
  {
   "cell_type": "markdown",
   "id": "c9fe31d0",
   "metadata": {
    "slideshow": {
     "slide_type": "fragment"
    }
   },
   "source": [
    "<div class=\"alert alert-block alert-warning\">\n",
    "    <i class=\"fa fa-question-circle\" aria-hidden=\"true\"></i>\n",
    "    <b>Question:</b> The substructuring result is exact on this ideal analytical case. Which issues do you expect to occur in a real experimental scenario?\n",
    "</div>"
   ]
  }
 ],
 "metadata": {
  "celltoolbar": "Slideshow",
  "kernelspec": {
   "display_name": "Python 3 (ipykernel)",
   "language": "python",
   "name": "python3"
  },
  "language_info": {
   "codemirror_mode": {
    "name": "ipython",
    "version": 3
   },
   "file_extension": ".py",
   "mimetype": "text/x-python",
   "name": "python",
   "nbconvert_exporter": "python",
   "pygments_lexer": "ipython3",
   "version": "3.12.7"
  }
 },
 "nbformat": 4,
 "nbformat_minor": 5
}
